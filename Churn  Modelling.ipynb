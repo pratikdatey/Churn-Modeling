{
 "cells": [
  {
   "cell_type": "code",
   "execution_count": 1,
   "id": "f5bf26d7",
   "metadata": {},
   "outputs": [],
   "source": [
    "import numpy as np\n",
    "import pandas as pd\n",
    "import tensorflow as tf\n",
    "import matplotlib.pyplot as plt"
   ]
  },
  {
   "cell_type": "code",
   "execution_count": 2,
   "id": "5ea687c5",
   "metadata": {},
   "outputs": [
    {
     "data": {
      "text/html": [
       "<div>\n",
       "<style scoped>\n",
       "    .dataframe tbody tr th:only-of-type {\n",
       "        vertical-align: middle;\n",
       "    }\n",
       "\n",
       "    .dataframe tbody tr th {\n",
       "        vertical-align: top;\n",
       "    }\n",
       "\n",
       "    .dataframe thead th {\n",
       "        text-align: right;\n",
       "    }\n",
       "</style>\n",
       "<table border=\"1\" class=\"dataframe\">\n",
       "  <thead>\n",
       "    <tr style=\"text-align: right;\">\n",
       "      <th></th>\n",
       "      <th>RowNumber</th>\n",
       "      <th>CustomerId</th>\n",
       "      <th>Surname</th>\n",
       "      <th>CreditScore</th>\n",
       "      <th>Geography</th>\n",
       "      <th>Gender</th>\n",
       "      <th>Age</th>\n",
       "      <th>Tenure</th>\n",
       "      <th>Balance</th>\n",
       "      <th>NumOfProducts</th>\n",
       "      <th>HasCrCard</th>\n",
       "      <th>IsActiveMember</th>\n",
       "      <th>EstimatedSalary</th>\n",
       "      <th>Exited</th>\n",
       "    </tr>\n",
       "  </thead>\n",
       "  <tbody>\n",
       "    <tr>\n",
       "      <th>0</th>\n",
       "      <td>1</td>\n",
       "      <td>15634602</td>\n",
       "      <td>Hargrave</td>\n",
       "      <td>619</td>\n",
       "      <td>France</td>\n",
       "      <td>Female</td>\n",
       "      <td>42</td>\n",
       "      <td>2</td>\n",
       "      <td>0.00</td>\n",
       "      <td>1</td>\n",
       "      <td>1</td>\n",
       "      <td>1</td>\n",
       "      <td>101348.88</td>\n",
       "      <td>1</td>\n",
       "    </tr>\n",
       "    <tr>\n",
       "      <th>1</th>\n",
       "      <td>2</td>\n",
       "      <td>15647311</td>\n",
       "      <td>Hill</td>\n",
       "      <td>608</td>\n",
       "      <td>Spain</td>\n",
       "      <td>Female</td>\n",
       "      <td>41</td>\n",
       "      <td>1</td>\n",
       "      <td>83807.86</td>\n",
       "      <td>1</td>\n",
       "      <td>0</td>\n",
       "      <td>1</td>\n",
       "      <td>112542.58</td>\n",
       "      <td>0</td>\n",
       "    </tr>\n",
       "    <tr>\n",
       "      <th>2</th>\n",
       "      <td>3</td>\n",
       "      <td>15619304</td>\n",
       "      <td>Onio</td>\n",
       "      <td>502</td>\n",
       "      <td>France</td>\n",
       "      <td>Female</td>\n",
       "      <td>42</td>\n",
       "      <td>8</td>\n",
       "      <td>159660.80</td>\n",
       "      <td>3</td>\n",
       "      <td>1</td>\n",
       "      <td>0</td>\n",
       "      <td>113931.57</td>\n",
       "      <td>1</td>\n",
       "    </tr>\n",
       "    <tr>\n",
       "      <th>3</th>\n",
       "      <td>4</td>\n",
       "      <td>15701354</td>\n",
       "      <td>Boni</td>\n",
       "      <td>699</td>\n",
       "      <td>France</td>\n",
       "      <td>Female</td>\n",
       "      <td>39</td>\n",
       "      <td>1</td>\n",
       "      <td>0.00</td>\n",
       "      <td>2</td>\n",
       "      <td>0</td>\n",
       "      <td>0</td>\n",
       "      <td>93826.63</td>\n",
       "      <td>0</td>\n",
       "    </tr>\n",
       "    <tr>\n",
       "      <th>4</th>\n",
       "      <td>5</td>\n",
       "      <td>15737888</td>\n",
       "      <td>Mitchell</td>\n",
       "      <td>850</td>\n",
       "      <td>Spain</td>\n",
       "      <td>Female</td>\n",
       "      <td>43</td>\n",
       "      <td>2</td>\n",
       "      <td>125510.82</td>\n",
       "      <td>1</td>\n",
       "      <td>1</td>\n",
       "      <td>1</td>\n",
       "      <td>79084.10</td>\n",
       "      <td>0</td>\n",
       "    </tr>\n",
       "  </tbody>\n",
       "</table>\n",
       "</div>"
      ],
      "text/plain": [
       "   RowNumber  CustomerId   Surname  CreditScore Geography  Gender  Age  \\\n",
       "0          1    15634602  Hargrave          619    France  Female   42   \n",
       "1          2    15647311      Hill          608     Spain  Female   41   \n",
       "2          3    15619304      Onio          502    France  Female   42   \n",
       "3          4    15701354      Boni          699    France  Female   39   \n",
       "4          5    15737888  Mitchell          850     Spain  Female   43   \n",
       "\n",
       "   Tenure    Balance  NumOfProducts  HasCrCard  IsActiveMember  \\\n",
       "0       2       0.00              1          1               1   \n",
       "1       1   83807.86              1          0               1   \n",
       "2       8  159660.80              3          1               0   \n",
       "3       1       0.00              2          0               0   \n",
       "4       2  125510.82              1          1               1   \n",
       "\n",
       "   EstimatedSalary  Exited  \n",
       "0        101348.88       1  \n",
       "1        112542.58       0  \n",
       "2        113931.57       1  \n",
       "3         93826.63       0  \n",
       "4         79084.10       0  "
      ]
     },
     "execution_count": 2,
     "metadata": {},
     "output_type": "execute_result"
    }
   ],
   "source": [
    "data=pd.read_csv('Churn_Modelling.csv')\n",
    "data.head()"
   ]
  },
  {
   "cell_type": "code",
   "execution_count": 3,
   "id": "e8874ba7",
   "metadata": {},
   "outputs": [
    {
     "data": {
      "text/plain": [
       "RowNumber          0\n",
       "CustomerId         0\n",
       "Surname            0\n",
       "CreditScore        0\n",
       "Geography          0\n",
       "Gender             0\n",
       "Age                0\n",
       "Tenure             0\n",
       "Balance            0\n",
       "NumOfProducts      0\n",
       "HasCrCard          0\n",
       "IsActiveMember     0\n",
       "EstimatedSalary    0\n",
       "Exited             0\n",
       "dtype: int64"
      ]
     },
     "execution_count": 3,
     "metadata": {},
     "output_type": "execute_result"
    }
   ],
   "source": [
    "data.isna().sum()"
   ]
  },
  {
   "cell_type": "code",
   "execution_count": 4,
   "id": "e24a8fca",
   "metadata": {},
   "outputs": [
    {
     "data": {
      "text/html": [
       "<div>\n",
       "<style scoped>\n",
       "    .dataframe tbody tr th:only-of-type {\n",
       "        vertical-align: middle;\n",
       "    }\n",
       "\n",
       "    .dataframe tbody tr th {\n",
       "        vertical-align: top;\n",
       "    }\n",
       "\n",
       "    .dataframe thead th {\n",
       "        text-align: right;\n",
       "    }\n",
       "</style>\n",
       "<table border=\"1\" class=\"dataframe\">\n",
       "  <thead>\n",
       "    <tr style=\"text-align: right;\">\n",
       "      <th></th>\n",
       "      <th>CreditScore</th>\n",
       "      <th>Geography</th>\n",
       "      <th>Gender</th>\n",
       "      <th>Age</th>\n",
       "      <th>Tenure</th>\n",
       "      <th>Balance</th>\n",
       "      <th>NumOfProducts</th>\n",
       "      <th>HasCrCard</th>\n",
       "      <th>IsActiveMember</th>\n",
       "      <th>EstimatedSalary</th>\n",
       "    </tr>\n",
       "  </thead>\n",
       "  <tbody>\n",
       "    <tr>\n",
       "      <th>0</th>\n",
       "      <td>619</td>\n",
       "      <td>France</td>\n",
       "      <td>Female</td>\n",
       "      <td>42</td>\n",
       "      <td>2</td>\n",
       "      <td>0.00</td>\n",
       "      <td>1</td>\n",
       "      <td>1</td>\n",
       "      <td>1</td>\n",
       "      <td>101348.88</td>\n",
       "    </tr>\n",
       "    <tr>\n",
       "      <th>1</th>\n",
       "      <td>608</td>\n",
       "      <td>Spain</td>\n",
       "      <td>Female</td>\n",
       "      <td>41</td>\n",
       "      <td>1</td>\n",
       "      <td>83807.86</td>\n",
       "      <td>1</td>\n",
       "      <td>0</td>\n",
       "      <td>1</td>\n",
       "      <td>112542.58</td>\n",
       "    </tr>\n",
       "    <tr>\n",
       "      <th>2</th>\n",
       "      <td>502</td>\n",
       "      <td>France</td>\n",
       "      <td>Female</td>\n",
       "      <td>42</td>\n",
       "      <td>8</td>\n",
       "      <td>159660.80</td>\n",
       "      <td>3</td>\n",
       "      <td>1</td>\n",
       "      <td>0</td>\n",
       "      <td>113931.57</td>\n",
       "    </tr>\n",
       "    <tr>\n",
       "      <th>3</th>\n",
       "      <td>699</td>\n",
       "      <td>France</td>\n",
       "      <td>Female</td>\n",
       "      <td>39</td>\n",
       "      <td>1</td>\n",
       "      <td>0.00</td>\n",
       "      <td>2</td>\n",
       "      <td>0</td>\n",
       "      <td>0</td>\n",
       "      <td>93826.63</td>\n",
       "    </tr>\n",
       "    <tr>\n",
       "      <th>4</th>\n",
       "      <td>850</td>\n",
       "      <td>Spain</td>\n",
       "      <td>Female</td>\n",
       "      <td>43</td>\n",
       "      <td>2</td>\n",
       "      <td>125510.82</td>\n",
       "      <td>1</td>\n",
       "      <td>1</td>\n",
       "      <td>1</td>\n",
       "      <td>79084.10</td>\n",
       "    </tr>\n",
       "  </tbody>\n",
       "</table>\n",
       "</div>"
      ],
      "text/plain": [
       "   CreditScore Geography  Gender  Age  Tenure    Balance  NumOfProducts  \\\n",
       "0          619    France  Female   42       2       0.00              1   \n",
       "1          608     Spain  Female   41       1   83807.86              1   \n",
       "2          502    France  Female   42       8  159660.80              3   \n",
       "3          699    France  Female   39       1       0.00              2   \n",
       "4          850     Spain  Female   43       2  125510.82              1   \n",
       "\n",
       "   HasCrCard  IsActiveMember  EstimatedSalary  \n",
       "0          1               1        101348.88  \n",
       "1          0               1        112542.58  \n",
       "2          1               0        113931.57  \n",
       "3          0               0         93826.63  \n",
       "4          1               1         79084.10  "
      ]
     },
     "execution_count": 4,
     "metadata": {},
     "output_type": "execute_result"
    }
   ],
   "source": [
    "x=data.iloc[:,3:13]\n",
    "x.head()"
   ]
  },
  {
   "cell_type": "code",
   "execution_count": 5,
   "id": "a9b7df45",
   "metadata": {},
   "outputs": [
    {
     "data": {
      "text/plain": [
       "0    1\n",
       "1    0\n",
       "2    1\n",
       "3    0\n",
       "4    0\n",
       "Name: Exited, dtype: int64"
      ]
     },
     "execution_count": 5,
     "metadata": {},
     "output_type": "execute_result"
    }
   ],
   "source": [
    "y=data.iloc[:,13]\n",
    "y.head()"
   ]
  },
  {
   "cell_type": "code",
   "execution_count": 6,
   "id": "83f9807d",
   "metadata": {},
   "outputs": [],
   "source": [
    "from sklearn.preprocessing import LabelEncoder\n",
    "le=LabelEncoder()"
   ]
  },
  {
   "cell_type": "code",
   "execution_count": 7,
   "id": "70c65868",
   "metadata": {},
   "outputs": [],
   "source": [
    "x['Geography']=le.fit_transform(x['Geography'])\n",
    "x['Gender']=le.fit_transform(x['Gender'])"
   ]
  },
  {
   "cell_type": "code",
   "execution_count": 8,
   "id": "d20aef0e",
   "metadata": {},
   "outputs": [
    {
     "data": {
      "text/html": [
       "<div>\n",
       "<style scoped>\n",
       "    .dataframe tbody tr th:only-of-type {\n",
       "        vertical-align: middle;\n",
       "    }\n",
       "\n",
       "    .dataframe tbody tr th {\n",
       "        vertical-align: top;\n",
       "    }\n",
       "\n",
       "    .dataframe thead th {\n",
       "        text-align: right;\n",
       "    }\n",
       "</style>\n",
       "<table border=\"1\" class=\"dataframe\">\n",
       "  <thead>\n",
       "    <tr style=\"text-align: right;\">\n",
       "      <th></th>\n",
       "      <th>CreditScore</th>\n",
       "      <th>Geography</th>\n",
       "      <th>Gender</th>\n",
       "      <th>Age</th>\n",
       "      <th>Tenure</th>\n",
       "      <th>Balance</th>\n",
       "      <th>NumOfProducts</th>\n",
       "      <th>HasCrCard</th>\n",
       "      <th>IsActiveMember</th>\n",
       "      <th>EstimatedSalary</th>\n",
       "    </tr>\n",
       "  </thead>\n",
       "  <tbody>\n",
       "    <tr>\n",
       "      <th>0</th>\n",
       "      <td>619</td>\n",
       "      <td>0</td>\n",
       "      <td>0</td>\n",
       "      <td>42</td>\n",
       "      <td>2</td>\n",
       "      <td>0.00</td>\n",
       "      <td>1</td>\n",
       "      <td>1</td>\n",
       "      <td>1</td>\n",
       "      <td>101348.88</td>\n",
       "    </tr>\n",
       "    <tr>\n",
       "      <th>1</th>\n",
       "      <td>608</td>\n",
       "      <td>2</td>\n",
       "      <td>0</td>\n",
       "      <td>41</td>\n",
       "      <td>1</td>\n",
       "      <td>83807.86</td>\n",
       "      <td>1</td>\n",
       "      <td>0</td>\n",
       "      <td>1</td>\n",
       "      <td>112542.58</td>\n",
       "    </tr>\n",
       "    <tr>\n",
       "      <th>2</th>\n",
       "      <td>502</td>\n",
       "      <td>0</td>\n",
       "      <td>0</td>\n",
       "      <td>42</td>\n",
       "      <td>8</td>\n",
       "      <td>159660.80</td>\n",
       "      <td>3</td>\n",
       "      <td>1</td>\n",
       "      <td>0</td>\n",
       "      <td>113931.57</td>\n",
       "    </tr>\n",
       "    <tr>\n",
       "      <th>3</th>\n",
       "      <td>699</td>\n",
       "      <td>0</td>\n",
       "      <td>0</td>\n",
       "      <td>39</td>\n",
       "      <td>1</td>\n",
       "      <td>0.00</td>\n",
       "      <td>2</td>\n",
       "      <td>0</td>\n",
       "      <td>0</td>\n",
       "      <td>93826.63</td>\n",
       "    </tr>\n",
       "    <tr>\n",
       "      <th>4</th>\n",
       "      <td>850</td>\n",
       "      <td>2</td>\n",
       "      <td>0</td>\n",
       "      <td>43</td>\n",
       "      <td>2</td>\n",
       "      <td>125510.82</td>\n",
       "      <td>1</td>\n",
       "      <td>1</td>\n",
       "      <td>1</td>\n",
       "      <td>79084.10</td>\n",
       "    </tr>\n",
       "  </tbody>\n",
       "</table>\n",
       "</div>"
      ],
      "text/plain": [
       "   CreditScore  Geography  Gender  Age  Tenure    Balance  NumOfProducts  \\\n",
       "0          619          0       0   42       2       0.00              1   \n",
       "1          608          2       0   41       1   83807.86              1   \n",
       "2          502          0       0   42       8  159660.80              3   \n",
       "3          699          0       0   39       1       0.00              2   \n",
       "4          850          2       0   43       2  125510.82              1   \n",
       "\n",
       "   HasCrCard  IsActiveMember  EstimatedSalary  \n",
       "0          1               1        101348.88  \n",
       "1          0               1        112542.58  \n",
       "2          1               0        113931.57  \n",
       "3          0               0         93826.63  \n",
       "4          1               1         79084.10  "
      ]
     },
     "execution_count": 8,
     "metadata": {},
     "output_type": "execute_result"
    }
   ],
   "source": [
    "x.head()"
   ]
  },
  {
   "cell_type": "code",
   "execution_count": 9,
   "id": "c4c3f4b1",
   "metadata": {},
   "outputs": [],
   "source": [
    "from sklearn.model_selection import train_test_split"
   ]
  },
  {
   "cell_type": "code",
   "execution_count": 10,
   "id": "53d5312b",
   "metadata": {},
   "outputs": [],
   "source": [
    "trainx,testx,trainy,testy=train_test_split(x,y,test_size=0.33,random_state=42)"
   ]
  },
  {
   "cell_type": "code",
   "execution_count": 11,
   "id": "e6bd4e0b",
   "metadata": {},
   "outputs": [],
   "source": [
    "from sklearn.preprocessing import StandardScaler,MinMaxScaler"
   ]
  },
  {
   "cell_type": "code",
   "execution_count": 12,
   "id": "b7acddab",
   "metadata": {},
   "outputs": [],
   "source": [
    "sc=StandardScaler()"
   ]
  },
  {
   "cell_type": "code",
   "execution_count": 13,
   "id": "7178803d",
   "metadata": {},
   "outputs": [],
   "source": [
    "trainx=sc.fit_transform(trainx)\n",
    "testx=sc.transform(testx)"
   ]
  },
  {
   "cell_type": "code",
   "execution_count": 14,
   "id": "f5578850",
   "metadata": {},
   "outputs": [
    {
     "data": {
      "text/plain": [
       "(6700, 10)"
      ]
     },
     "execution_count": 14,
     "metadata": {},
     "output_type": "execute_result"
    }
   ],
   "source": [
    "trainx.shape"
   ]
  },
  {
   "cell_type": "code",
   "execution_count": 15,
   "id": "92876ee5",
   "metadata": {},
   "outputs": [],
   "source": [
    "import tensorflow as tf"
   ]
  },
  {
   "cell_type": "code",
   "execution_count": 16,
   "id": "2bd6f09b",
   "metadata": {},
   "outputs": [],
   "source": [
    "from tensorflow.keras.models import Sequential\n",
    "from tensorflow.keras.layers import Dense,ReLU,LeakyReLU,Dropout"
   ]
  },
  {
   "cell_type": "code",
   "execution_count": 17,
   "id": "5b2f77ad",
   "metadata": {},
   "outputs": [],
   "source": [
    "classifier=Sequential()\n",
    "classifier.add(Dense(units=10,activation='relu'))\n",
    "classifier.add(Dense(units=8,activation='relu'))\n",
    "classifier.add(Dense(units=5,activation='relu'))\n",
    "classifier.add(Dense(units=1,activation='sigmoid'))"
   ]
  },
  {
   "cell_type": "code",
   "execution_count": 18,
   "id": "d185b457",
   "metadata": {},
   "outputs": [],
   "source": [
    "classifier.compile(optimizer='adam',loss='binary_crossentropy',metrics=['accuracy'])"
   ]
  },
  {
   "cell_type": "code",
   "execution_count": 19,
   "id": "129efdab",
   "metadata": {},
   "outputs": [
    {
     "data": {
      "text/plain": [
       "<keras.optimizer_v2.adam.Adam at 0x2a7d7d72550>"
      ]
     },
     "execution_count": 19,
     "metadata": {},
     "output_type": "execute_result"
    }
   ],
   "source": [
    "tf.keras.optimizers.Adam(learning_rate=0.01)"
   ]
  },
  {
   "cell_type": "code",
   "execution_count": 20,
   "id": "94a4e24d",
   "metadata": {},
   "outputs": [],
   "source": [
    "early_stopping=tf.keras.callbacks.EarlyStopping(\n",
    "    monitor=\"val_loss\",\n",
    "    min_delta=0.005,\n",
    "    patience=20,\n",
    "    verbose=1,\n",
    "    mode=\"auto\",\n",
    "    baseline=None,\n",
    "    restore_best_weights=False,)\n"
   ]
  },
  {
   "cell_type": "code",
   "execution_count": 21,
   "id": "aa79e5c4",
   "metadata": {},
   "outputs": [
    {
     "name": "stdout",
     "output_type": "stream",
     "text": [
      "Epoch 1/100\n",
      "469/469 [==============================] - 1s 1ms/step - loss: 0.5221 - accuracy: 0.7857 - val_loss: 0.4737 - val_accuracy: 0.7955\n",
      "Epoch 2/100\n",
      "469/469 [==============================] - 0s 968us/step - loss: 0.4661 - accuracy: 0.7921 - val_loss: 0.4418 - val_accuracy: 0.8045\n",
      "Epoch 3/100\n",
      "469/469 [==============================] - 0s 963us/step - loss: 0.4402 - accuracy: 0.8070 - val_loss: 0.4286 - val_accuracy: 0.8149\n",
      "Epoch 4/100\n",
      "469/469 [==============================] - 0s 1ms/step - loss: 0.4275 - accuracy: 0.8087 - val_loss: 0.4211 - val_accuracy: 0.8174\n",
      "Epoch 5/100\n",
      "469/469 [==============================] - 0s 983us/step - loss: 0.4181 - accuracy: 0.8130 - val_loss: 0.4166 - val_accuracy: 0.8124\n",
      "Epoch 6/100\n",
      "469/469 [==============================] - 0s 1ms/step - loss: 0.4104 - accuracy: 0.8151 - val_loss: 0.4077 - val_accuracy: 0.8159\n",
      "Epoch 7/100\n",
      "469/469 [==============================] - 0s 967us/step - loss: 0.3998 - accuracy: 0.8264 - val_loss: 0.3970 - val_accuracy: 0.8373\n",
      "Epoch 8/100\n",
      "469/469 [==============================] - 0s 1ms/step - loss: 0.3875 - accuracy: 0.8348 - val_loss: 0.3862 - val_accuracy: 0.8403\n",
      "Epoch 9/100\n",
      "469/469 [==============================] - 0s 965us/step - loss: 0.3771 - accuracy: 0.8416 - val_loss: 0.3810 - val_accuracy: 0.8378\n",
      "Epoch 10/100\n",
      "469/469 [==============================] - 0s 975us/step - loss: 0.3686 - accuracy: 0.8467 - val_loss: 0.3733 - val_accuracy: 0.8408\n",
      "Epoch 11/100\n",
      "469/469 [==============================] - 0s 1ms/step - loss: 0.3625 - accuracy: 0.8495 - val_loss: 0.3747 - val_accuracy: 0.8408\n",
      "Epoch 12/100\n",
      "469/469 [==============================] - 0s 960us/step - loss: 0.3587 - accuracy: 0.8503 - val_loss: 0.3676 - val_accuracy: 0.8488\n",
      "Epoch 13/100\n",
      "469/469 [==============================] - 0s 948us/step - loss: 0.3561 - accuracy: 0.8505 - val_loss: 0.3662 - val_accuracy: 0.8498\n",
      "Epoch 14/100\n",
      "469/469 [==============================] - 0s 961us/step - loss: 0.3548 - accuracy: 0.8529 - val_loss: 0.3661 - val_accuracy: 0.8463\n",
      "Epoch 15/100\n",
      "469/469 [==============================] - 0s 966us/step - loss: 0.3533 - accuracy: 0.8531 - val_loss: 0.3627 - val_accuracy: 0.8498\n",
      "Epoch 16/100\n",
      "469/469 [==============================] - 0s 933us/step - loss: 0.3511 - accuracy: 0.8544 - val_loss: 0.3672 - val_accuracy: 0.8413\n",
      "Epoch 17/100\n",
      "469/469 [==============================] - 0s 942us/step - loss: 0.3504 - accuracy: 0.8539 - val_loss: 0.3613 - val_accuracy: 0.8507\n",
      "Epoch 18/100\n",
      "469/469 [==============================] - 0s 954us/step - loss: 0.3493 - accuracy: 0.8516 - val_loss: 0.3598 - val_accuracy: 0.8527\n",
      "Epoch 19/100\n",
      "469/469 [==============================] - 0s 949us/step - loss: 0.3486 - accuracy: 0.8559 - val_loss: 0.3616 - val_accuracy: 0.8537\n",
      "Epoch 20/100\n",
      "469/469 [==============================] - 0s 960us/step - loss: 0.3481 - accuracy: 0.8537 - val_loss: 0.3613 - val_accuracy: 0.8483\n",
      "Epoch 21/100\n",
      "469/469 [==============================] - 0s 957us/step - loss: 0.3463 - accuracy: 0.8557 - val_loss: 0.3582 - val_accuracy: 0.8547\n",
      "Epoch 22/100\n",
      "469/469 [==============================] - 0s 965us/step - loss: 0.3455 - accuracy: 0.8559 - val_loss: 0.3620 - val_accuracy: 0.8522\n",
      "Epoch 23/100\n",
      "469/469 [==============================] - 0s 940us/step - loss: 0.3451 - accuracy: 0.8563 - val_loss: 0.3649 - val_accuracy: 0.8443\n",
      "Epoch 24/100\n",
      "469/469 [==============================] - 0s 949us/step - loss: 0.3450 - accuracy: 0.8580 - val_loss: 0.3603 - val_accuracy: 0.8493\n",
      "Epoch 25/100\n",
      "469/469 [==============================] - 0s 970us/step - loss: 0.3435 - accuracy: 0.8591 - val_loss: 0.3633 - val_accuracy: 0.8478\n",
      "Epoch 26/100\n",
      "469/469 [==============================] - 0s 972us/step - loss: 0.3442 - accuracy: 0.8552 - val_loss: 0.3583 - val_accuracy: 0.8502\n",
      "Epoch 27/100\n",
      "469/469 [==============================] - 1s 1ms/step - loss: 0.3442 - accuracy: 0.8563 - val_loss: 0.3606 - val_accuracy: 0.8448\n",
      "Epoch 28/100\n",
      "469/469 [==============================] - 0s 986us/step - loss: 0.3429 - accuracy: 0.8580 - val_loss: 0.3601 - val_accuracy: 0.8502\n",
      "Epoch 29/100\n",
      "469/469 [==============================] - 0s 1ms/step - loss: 0.3426 - accuracy: 0.8574 - val_loss: 0.3603 - val_accuracy: 0.8473\n",
      "Epoch 30/100\n",
      "469/469 [==============================] - 0s 1ms/step - loss: 0.3412 - accuracy: 0.8614 - val_loss: 0.3602 - val_accuracy: 0.8483\n",
      "Epoch 31/100\n",
      "469/469 [==============================] - 0s 968us/step - loss: 0.3402 - accuracy: 0.8610 - val_loss: 0.3599 - val_accuracy: 0.8517\n",
      "Epoch 32/100\n",
      "469/469 [==============================] - 0s 947us/step - loss: 0.3414 - accuracy: 0.8574 - val_loss: 0.3572 - val_accuracy: 0.8502\n",
      "Epoch 33/100\n",
      "469/469 [==============================] - 0s 978us/step - loss: 0.3405 - accuracy: 0.8620 - val_loss: 0.3563 - val_accuracy: 0.8522\n",
      "Epoch 34/100\n",
      "469/469 [==============================] - 0s 959us/step - loss: 0.3401 - accuracy: 0.8550 - val_loss: 0.3587 - val_accuracy: 0.8517\n",
      "Epoch 35/100\n",
      "469/469 [==============================] - 0s 983us/step - loss: 0.3390 - accuracy: 0.8593 - val_loss: 0.3584 - val_accuracy: 0.8483\n",
      "Epoch 36/100\n",
      "469/469 [==============================] - 0s 962us/step - loss: 0.3380 - accuracy: 0.8595 - val_loss: 0.3590 - val_accuracy: 0.8512\n",
      "Epoch 37/100\n",
      "469/469 [==============================] - 0s 1ms/step - loss: 0.3377 - accuracy: 0.8586 - val_loss: 0.3653 - val_accuracy: 0.8433\n",
      "Epoch 37: early stopping\n"
     ]
    }
   ],
   "source": [
    "model=classifier.fit(trainx,trainy,validation_split=0.3,batch_size=10,epochs=100,callbacks=early_stopping)"
   ]
  },
  {
   "cell_type": "code",
   "execution_count": 22,
   "id": "ad0cd7f9",
   "metadata": {},
   "outputs": [],
   "source": [
    "# model with Dropout\n",
    "classifier1=Sequential()\n",
    "classifier1.add(Dense(units=10,activation='relu'))\n",
    "classifier1.add(Dropout(0.1))\n",
    "classifier1.add(Dense(units=8,activation='relu'))\n",
    "classifier1.add(Dropout(0.15))\n",
    "classifier1.add(Dense(units=5,activation='relu'))\n",
    "classifier1.add(Dropout(0.2))\n",
    "classifier1.add(Dense(units=1,activation='sigmoid'))"
   ]
  },
  {
   "cell_type": "code",
   "execution_count": 23,
   "id": "b63995a7",
   "metadata": {},
   "outputs": [],
   "source": [
    "classifier1.compile(optimizer='adam',loss='binary_crossentropy',metrics=['accuracy'])"
   ]
  },
  {
   "cell_type": "code",
   "execution_count": 24,
   "id": "b38ebeca",
   "metadata": {},
   "outputs": [
    {
     "name": "stdout",
     "output_type": "stream",
     "text": [
      "Epoch 1/100\n",
      "469/469 [==============================] - 1s 1ms/step - loss: 0.5597 - accuracy: 0.7501 - val_loss: 0.4744 - val_accuracy: 0.7965\n",
      "Epoch 2/100\n",
      "469/469 [==============================] - 0s 1ms/step - loss: 0.4841 - accuracy: 0.7957 - val_loss: 0.4421 - val_accuracy: 0.8139\n",
      "Epoch 3/100\n",
      "469/469 [==============================] - 0s 1ms/step - loss: 0.4607 - accuracy: 0.8111 - val_loss: 0.4248 - val_accuracy: 0.8348\n",
      "Epoch 4/100\n",
      "469/469 [==============================] - 0s 1ms/step - loss: 0.4462 - accuracy: 0.8132 - val_loss: 0.4150 - val_accuracy: 0.8388\n",
      "Epoch 5/100\n",
      "469/469 [==============================] - 0s 962us/step - loss: 0.4375 - accuracy: 0.8173 - val_loss: 0.4032 - val_accuracy: 0.8448\n",
      "Epoch 6/100\n",
      "469/469 [==============================] - 0s 961us/step - loss: 0.4280 - accuracy: 0.8264 - val_loss: 0.3976 - val_accuracy: 0.8433\n",
      "Epoch 7/100\n",
      "469/469 [==============================] - 0s 983us/step - loss: 0.4146 - accuracy: 0.8262 - val_loss: 0.3928 - val_accuracy: 0.8448\n",
      "Epoch 8/100\n",
      "469/469 [==============================] - 0s 1ms/step - loss: 0.4218 - accuracy: 0.8288 - val_loss: 0.3870 - val_accuracy: 0.8488\n",
      "Epoch 9/100\n",
      "469/469 [==============================] - 0s 939us/step - loss: 0.4171 - accuracy: 0.8267 - val_loss: 0.3892 - val_accuracy: 0.8478\n",
      "Epoch 10/100\n",
      "469/469 [==============================] - 0s 951us/step - loss: 0.4119 - accuracy: 0.8279 - val_loss: 0.3838 - val_accuracy: 0.8478\n",
      "Epoch 11/100\n",
      "469/469 [==============================] - 0s 939us/step - loss: 0.4075 - accuracy: 0.8267 - val_loss: 0.3805 - val_accuracy: 0.8498\n",
      "Epoch 12/100\n",
      "469/469 [==============================] - 0s 975us/step - loss: 0.4071 - accuracy: 0.8275 - val_loss: 0.3788 - val_accuracy: 0.8478\n",
      "Epoch 13/100\n",
      "469/469 [==============================] - 1s 1ms/step - loss: 0.4016 - accuracy: 0.8313 - val_loss: 0.3768 - val_accuracy: 0.8488\n",
      "Epoch 14/100\n",
      "469/469 [==============================] - 0s 1ms/step - loss: 0.4036 - accuracy: 0.8301 - val_loss: 0.3791 - val_accuracy: 0.8473\n",
      "Epoch 15/100\n",
      "469/469 [==============================] - 0s 983us/step - loss: 0.4050 - accuracy: 0.8290 - val_loss: 0.3743 - val_accuracy: 0.8507\n",
      "Epoch 16/100\n",
      "469/469 [==============================] - 0s 1ms/step - loss: 0.3984 - accuracy: 0.8324 - val_loss: 0.3722 - val_accuracy: 0.8517\n",
      "Epoch 17/100\n",
      "469/469 [==============================] - 0s 1ms/step - loss: 0.3944 - accuracy: 0.8362 - val_loss: 0.3709 - val_accuracy: 0.8517\n",
      "Epoch 18/100\n",
      "469/469 [==============================] - 1s 1ms/step - loss: 0.3953 - accuracy: 0.8324 - val_loss: 0.3745 - val_accuracy: 0.8512\n",
      "Epoch 19/100\n",
      "469/469 [==============================] - 0s 1ms/step - loss: 0.3923 - accuracy: 0.8390 - val_loss: 0.3687 - val_accuracy: 0.8507\n",
      "Epoch 20/100\n",
      "469/469 [==============================] - 1s 1ms/step - loss: 0.3871 - accuracy: 0.8373 - val_loss: 0.3680 - val_accuracy: 0.8493\n",
      "Epoch 21/100\n",
      "469/469 [==============================] - 0s 1ms/step - loss: 0.3845 - accuracy: 0.8369 - val_loss: 0.3677 - val_accuracy: 0.8522\n",
      "Epoch 22/100\n",
      "469/469 [==============================] - 0s 962us/step - loss: 0.3889 - accuracy: 0.8335 - val_loss: 0.3657 - val_accuracy: 0.8532\n",
      "Epoch 23/100\n",
      "469/469 [==============================] - 0s 1ms/step - loss: 0.3924 - accuracy: 0.8343 - val_loss: 0.3667 - val_accuracy: 0.8552\n",
      "Epoch 24/100\n",
      "469/469 [==============================] - 0s 1ms/step - loss: 0.3864 - accuracy: 0.8380 - val_loss: 0.3661 - val_accuracy: 0.8547\n",
      "Epoch 25/100\n",
      "469/469 [==============================] - 0s 1ms/step - loss: 0.3912 - accuracy: 0.8345 - val_loss: 0.3654 - val_accuracy: 0.8552\n",
      "Epoch 26/100\n",
      "469/469 [==============================] - 0s 982us/step - loss: 0.3819 - accuracy: 0.8392 - val_loss: 0.3643 - val_accuracy: 0.8532\n",
      "Epoch 27/100\n",
      "469/469 [==============================] - 0s 984us/step - loss: 0.3848 - accuracy: 0.8433 - val_loss: 0.3623 - val_accuracy: 0.8532\n",
      "Epoch 28/100\n",
      "469/469 [==============================] - 0s 961us/step - loss: 0.3844 - accuracy: 0.8416 - val_loss: 0.3640 - val_accuracy: 0.8537\n",
      "Epoch 29/100\n",
      "469/469 [==============================] - 0s 982us/step - loss: 0.3828 - accuracy: 0.8367 - val_loss: 0.3621 - val_accuracy: 0.8507\n",
      "Epoch 30/100\n",
      "469/469 [==============================] - 0s 1ms/step - loss: 0.3806 - accuracy: 0.8412 - val_loss: 0.3608 - val_accuracy: 0.8522\n",
      "Epoch 31/100\n",
      "469/469 [==============================] - 0s 1ms/step - loss: 0.3835 - accuracy: 0.8407 - val_loss: 0.3659 - val_accuracy: 0.8537\n",
      "Epoch 32/100\n",
      "469/469 [==============================] - 0s 1ms/step - loss: 0.3828 - accuracy: 0.8375 - val_loss: 0.3595 - val_accuracy: 0.8552\n",
      "Epoch 33/100\n",
      "469/469 [==============================] - 1s 1ms/step - loss: 0.3843 - accuracy: 0.8416 - val_loss: 0.3621 - val_accuracy: 0.8552\n",
      "Epoch 34/100\n",
      "469/469 [==============================] - 0s 1ms/step - loss: 0.3807 - accuracy: 0.8392 - val_loss: 0.3607 - val_accuracy: 0.8552\n",
      "Epoch 35/100\n",
      "469/469 [==============================] - 1s 1ms/step - loss: 0.3767 - accuracy: 0.8403 - val_loss: 0.3613 - val_accuracy: 0.8542\n",
      "Epoch 36/100\n",
      "469/469 [==============================] - 0s 1ms/step - loss: 0.3768 - accuracy: 0.8397 - val_loss: 0.3584 - val_accuracy: 0.8557\n",
      "Epoch 37/100\n",
      "469/469 [==============================] - 0s 1ms/step - loss: 0.3791 - accuracy: 0.8439 - val_loss: 0.3606 - val_accuracy: 0.8542\n",
      "Epoch 38/100\n",
      "469/469 [==============================] - 0s 1ms/step - loss: 0.3723 - accuracy: 0.8461 - val_loss: 0.3577 - val_accuracy: 0.8567\n",
      "Epoch 39/100\n",
      "469/469 [==============================] - 0s 1ms/step - loss: 0.3769 - accuracy: 0.8418 - val_loss: 0.3597 - val_accuracy: 0.8577\n",
      "Epoch 40/100\n",
      "469/469 [==============================] - 0s 1ms/step - loss: 0.3741 - accuracy: 0.8424 - val_loss: 0.3578 - val_accuracy: 0.8537\n",
      "Epoch 41/100\n",
      "469/469 [==============================] - 0s 1ms/step - loss: 0.3733 - accuracy: 0.8475 - val_loss: 0.3593 - val_accuracy: 0.8547\n",
      "Epoch 42/100\n",
      "469/469 [==============================] - 0s 975us/step - loss: 0.3767 - accuracy: 0.8418 - val_loss: 0.3597 - val_accuracy: 0.8552\n",
      "Epoch 43/100\n",
      "469/469 [==============================] - 0s 962us/step - loss: 0.3811 - accuracy: 0.8412 - val_loss: 0.3598 - val_accuracy: 0.8557\n",
      "Epoch 44/100\n",
      "469/469 [==============================] - 0s 1ms/step - loss: 0.3705 - accuracy: 0.8486 - val_loss: 0.3611 - val_accuracy: 0.8493\n",
      "Epoch 45/100\n",
      "469/469 [==============================] - 0s 1ms/step - loss: 0.3694 - accuracy: 0.8482 - val_loss: 0.3584 - val_accuracy: 0.8547\n",
      "Epoch 46/100\n",
      "469/469 [==============================] - 0s 982us/step - loss: 0.3781 - accuracy: 0.8401 - val_loss: 0.3606 - val_accuracy: 0.8537\n",
      "Epoch 47/100\n",
      "469/469 [==============================] - 0s 1ms/step - loss: 0.3773 - accuracy: 0.8454 - val_loss: 0.3588 - val_accuracy: 0.8532\n",
      "Epoch 48/100\n",
      "469/469 [==============================] - 1s 1ms/step - loss: 0.3721 - accuracy: 0.8454 - val_loss: 0.3579 - val_accuracy: 0.8562\n",
      "Epoch 49/100\n",
      "469/469 [==============================] - 0s 1ms/step - loss: 0.3802 - accuracy: 0.8405 - val_loss: 0.3590 - val_accuracy: 0.8537\n",
      "Epoch 50/100\n",
      "469/469 [==============================] - 1s 1ms/step - loss: 0.3741 - accuracy: 0.8407 - val_loss: 0.3580 - val_accuracy: 0.8522\n",
      "Epoch 51/100\n",
      "469/469 [==============================] - 1s 1ms/step - loss: 0.3701 - accuracy: 0.8482 - val_loss: 0.3597 - val_accuracy: 0.8522\n",
      "Epoch 52/100\n",
      "469/469 [==============================] - 1s 2ms/step - loss: 0.3698 - accuracy: 0.8461 - val_loss: 0.3595 - val_accuracy: 0.8527\n",
      "Epoch 53/100\n",
      "469/469 [==============================] - 1s 1ms/step - loss: 0.3705 - accuracy: 0.8461 - val_loss: 0.3596 - val_accuracy: 0.8552\n",
      "Epoch 54/100\n",
      "469/469 [==============================] - 1s 1ms/step - loss: 0.3726 - accuracy: 0.8414 - val_loss: 0.3562 - val_accuracy: 0.8562\n",
      "Epoch 55/100\n",
      "469/469 [==============================] - 0s 1ms/step - loss: 0.3754 - accuracy: 0.8439 - val_loss: 0.3581 - val_accuracy: 0.8557\n",
      "Epoch 56/100\n",
      "469/469 [==============================] - 0s 1ms/step - loss: 0.3744 - accuracy: 0.8437 - val_loss: 0.3592 - val_accuracy: 0.8542\n",
      "Epoch 57/100\n",
      "469/469 [==============================] - 0s 1ms/step - loss: 0.3717 - accuracy: 0.8433 - val_loss: 0.3583 - val_accuracy: 0.8542\n"
     ]
    },
    {
     "name": "stdout",
     "output_type": "stream",
     "text": [
      "Epoch 58/100\n",
      "469/469 [==============================] - 0s 955us/step - loss: 0.3728 - accuracy: 0.8456 - val_loss: 0.3591 - val_accuracy: 0.8532\n",
      "Epoch 59/100\n",
      "469/469 [==============================] - 0s 955us/step - loss: 0.3691 - accuracy: 0.8443 - val_loss: 0.3602 - val_accuracy: 0.8537\n",
      "Epoch 60/100\n",
      "469/469 [==============================] - 0s 973us/step - loss: 0.3707 - accuracy: 0.8420 - val_loss: 0.3602 - val_accuracy: 0.8512\n",
      "Epoch 61/100\n",
      "469/469 [==============================] - 0s 984us/step - loss: 0.3706 - accuracy: 0.8452 - val_loss: 0.3597 - val_accuracy: 0.8512\n",
      "Epoch 62/100\n",
      "469/469 [==============================] - 0s 1ms/step - loss: 0.3720 - accuracy: 0.8424 - val_loss: 0.3594 - val_accuracy: 0.8517\n",
      "Epoch 63/100\n",
      "469/469 [==============================] - 0s 948us/step - loss: 0.3733 - accuracy: 0.8458 - val_loss: 0.3588 - val_accuracy: 0.8552\n",
      "Epoch 64/100\n",
      "469/469 [==============================] - 0s 991us/step - loss: 0.3677 - accuracy: 0.8497 - val_loss: 0.3581 - val_accuracy: 0.8502\n",
      "Epoch 65/100\n",
      "469/469 [==============================] - 0s 972us/step - loss: 0.3722 - accuracy: 0.8435 - val_loss: 0.3596 - val_accuracy: 0.8522\n",
      "Epoch 66/100\n",
      "469/469 [==============================] - 0s 1ms/step - loss: 0.3662 - accuracy: 0.8461 - val_loss: 0.3591 - val_accuracy: 0.8517\n",
      "Epoch 67/100\n",
      "469/469 [==============================] - 1s 1ms/step - loss: 0.3714 - accuracy: 0.8467 - val_loss: 0.3569 - val_accuracy: 0.8542\n",
      "Epoch 68/100\n",
      "469/469 [==============================] - 0s 965us/step - loss: 0.3734 - accuracy: 0.8420 - val_loss: 0.3599 - val_accuracy: 0.8522\n",
      "Epoch 69/100\n",
      "469/469 [==============================] - 0s 935us/step - loss: 0.3712 - accuracy: 0.8465 - val_loss: 0.3583 - val_accuracy: 0.8542\n",
      "Epoch 70/100\n",
      "469/469 [==============================] - 0s 1ms/step - loss: 0.3687 - accuracy: 0.8490 - val_loss: 0.3579 - val_accuracy: 0.8527\n",
      "Epoch 71/100\n",
      "469/469 [==============================] - 0s 1ms/step - loss: 0.3652 - accuracy: 0.8495 - val_loss: 0.3566 - val_accuracy: 0.8512\n",
      "Epoch 72/100\n",
      "469/469 [==============================] - 0s 1ms/step - loss: 0.3749 - accuracy: 0.8503 - val_loss: 0.3596 - val_accuracy: 0.8547\n",
      "Epoch 73/100\n",
      "469/469 [==============================] - 0s 1ms/step - loss: 0.3705 - accuracy: 0.8456 - val_loss: 0.3591 - val_accuracy: 0.8517\n",
      "Epoch 74/100\n",
      "469/469 [==============================] - 0s 1ms/step - loss: 0.3685 - accuracy: 0.8437 - val_loss: 0.3574 - val_accuracy: 0.8527\n",
      "Epoch 75/100\n",
      "469/469 [==============================] - 0s 1ms/step - loss: 0.3713 - accuracy: 0.8452 - val_loss: 0.3574 - val_accuracy: 0.8542\n",
      "Epoch 76/100\n",
      "469/469 [==============================] - 0s 1ms/step - loss: 0.3713 - accuracy: 0.8531 - val_loss: 0.3582 - val_accuracy: 0.8547\n",
      "Epoch 77/100\n",
      "469/469 [==============================] - 0s 1ms/step - loss: 0.3756 - accuracy: 0.8420 - val_loss: 0.3602 - val_accuracy: 0.8542\n",
      "Epoch 78/100\n",
      "469/469 [==============================] - 0s 1ms/step - loss: 0.3704 - accuracy: 0.8458 - val_loss: 0.3600 - val_accuracy: 0.8527\n",
      "Epoch 79/100\n",
      "469/469 [==============================] - 0s 1ms/step - loss: 0.3671 - accuracy: 0.8448 - val_loss: 0.3602 - val_accuracy: 0.8537\n",
      "Epoch 80/100\n",
      "469/469 [==============================] - 0s 983us/step - loss: 0.3704 - accuracy: 0.8458 - val_loss: 0.3620 - val_accuracy: 0.8498\n",
      "Epoch 81/100\n",
      "469/469 [==============================] - 0s 1ms/step - loss: 0.3615 - accuracy: 0.8480 - val_loss: 0.3599 - val_accuracy: 0.8542\n",
      "Epoch 82/100\n",
      "469/469 [==============================] - 0s 940us/step - loss: 0.3697 - accuracy: 0.8482 - val_loss: 0.3578 - val_accuracy: 0.8537\n",
      "Epoch 83/100\n",
      "469/469 [==============================] - 0s 962us/step - loss: 0.3733 - accuracy: 0.8458 - val_loss: 0.3589 - val_accuracy: 0.8542\n",
      "Epoch 84/100\n",
      "469/469 [==============================] - 0s 941us/step - loss: 0.3666 - accuracy: 0.8527 - val_loss: 0.3567 - val_accuracy: 0.8552\n",
      "Epoch 85/100\n",
      "469/469 [==============================] - 0s 1ms/step - loss: 0.3763 - accuracy: 0.8441 - val_loss: 0.3598 - val_accuracy: 0.8512\n",
      "Epoch 86/100\n",
      "469/469 [==============================] - 0s 983us/step - loss: 0.3713 - accuracy: 0.8443 - val_loss: 0.3586 - val_accuracy: 0.8517\n",
      "Epoch 87/100\n",
      "469/469 [==============================] - 1s 1ms/step - loss: 0.3704 - accuracy: 0.8446 - val_loss: 0.3606 - val_accuracy: 0.8507\n",
      "Epoch 88/100\n",
      "469/469 [==============================] - 1s 1ms/step - loss: 0.3752 - accuracy: 0.8437 - val_loss: 0.3617 - val_accuracy: 0.8522\n",
      "Epoch 89/100\n",
      "469/469 [==============================] - 1s 1ms/step - loss: 0.3683 - accuracy: 0.8461 - val_loss: 0.3582 - val_accuracy: 0.8542\n",
      "Epoch 90/100\n",
      "469/469 [==============================] - 0s 1ms/step - loss: 0.3703 - accuracy: 0.8450 - val_loss: 0.3574 - val_accuracy: 0.8527\n",
      "Epoch 91/100\n",
      "469/469 [==============================] - 0s 1ms/step - loss: 0.3638 - accuracy: 0.8510 - val_loss: 0.3580 - val_accuracy: 0.8532\n",
      "Epoch 92/100\n",
      "469/469 [==============================] - 0s 1ms/step - loss: 0.3726 - accuracy: 0.8446 - val_loss: 0.3571 - val_accuracy: 0.8498\n",
      "Epoch 93/100\n",
      "469/469 [==============================] - 0s 970us/step - loss: 0.3637 - accuracy: 0.8467 - val_loss: 0.3583 - val_accuracy: 0.8522\n",
      "Epoch 94/100\n",
      "469/469 [==============================] - 0s 1ms/step - loss: 0.3680 - accuracy: 0.8454 - val_loss: 0.3589 - val_accuracy: 0.8512\n",
      "Epoch 95/100\n",
      "469/469 [==============================] - 0s 1ms/step - loss: 0.3693 - accuracy: 0.8450 - val_loss: 0.3593 - val_accuracy: 0.8532\n",
      "Epoch 96/100\n",
      "469/469 [==============================] - 0s 1ms/step - loss: 0.3665 - accuracy: 0.8461 - val_loss: 0.3555 - val_accuracy: 0.8527\n",
      "Epoch 97/100\n",
      "469/469 [==============================] - 0s 979us/step - loss: 0.3629 - accuracy: 0.8420 - val_loss: 0.3587 - val_accuracy: 0.8527\n",
      "Epoch 98/100\n",
      "469/469 [==============================] - 0s 1ms/step - loss: 0.3720 - accuracy: 0.8456 - val_loss: 0.3575 - val_accuracy: 0.8493\n",
      "Epoch 99/100\n",
      "469/469 [==============================] - 0s 1ms/step - loss: 0.3681 - accuracy: 0.8452 - val_loss: 0.3588 - val_accuracy: 0.8488\n",
      "Epoch 100/100\n",
      "469/469 [==============================] - 0s 996us/step - loss: 0.3707 - accuracy: 0.8426 - val_loss: 0.3582 - val_accuracy: 0.8517\n"
     ]
    }
   ],
   "source": [
    "model1=classifier1.fit(trainx,trainy,validation_split=0.3,batch_size=10,epochs=100)"
   ]
  },
  {
   "cell_type": "code",
   "execution_count": 25,
   "id": "23bdef62",
   "metadata": {},
   "outputs": [
    {
     "data": {
      "text/plain": [
       "dict_keys(['loss', 'accuracy', 'val_loss', 'val_accuracy'])"
      ]
     },
     "execution_count": 25,
     "metadata": {},
     "output_type": "execute_result"
    }
   ],
   "source": [
    "model.history.keys()"
   ]
  },
  {
   "cell_type": "code",
   "execution_count": 44,
   "id": "b95e2608",
   "metadata": {},
   "outputs": [
    {
     "data": {
      "text/plain": [
       "<matplotlib.legend.Legend at 0x2a7e56ce400>"
      ]
     },
     "execution_count": 44,
     "metadata": {},
     "output_type": "execute_result"
    },
    {
     "data": {
      "image/png": "[encoded data removed]",
      "text/plain": [
       "<Figure size 432x288 with 1 Axes>"
      ]
     },
     "metadata": {
      "needs_background": "light"
     },
     "output_type": "display_data"
    }
   ],
   "source": [
    "plt.plot(model.history['accuracy'])\n",
    "plt.plot(model.history['val_accuracy'])\n",
    "plt.xlabel('epochs')\n",
    "plt.ylabel('accuracy')\n",
    "plt.title('model accuracy')\n",
    "plt.legend(['train','test'])"
   ]
  },
  {
   "cell_type": "code",
   "execution_count": 45,
   "id": "118376bd",
   "metadata": {},
   "outputs": [
    {
     "data": {
      "text/plain": [
       "<matplotlib.legend.Legend at 0x2a7e566b340>"
      ]
     },
     "execution_count": 45,
     "metadata": {},
     "output_type": "execute_result"
    },
    {
     "data": {
      "image/png": "[encoded data removed]",
      "text/plain": [
       "<Figure size 432x288 with 1 Axes>"
      ]
     },
     "metadata": {
      "needs_background": "light"
     },
     "output_type": "display_data"
    }
   ],
   "source": [
    "plt.plot(model.history['loss'])\n",
    "plt.plot(model.history['val_loss'])\n",
    "plt.xlabel('epochs')\n",
    "plt.ylabel('loss')\n",
    "plt.title('model loss')\n",
    "plt.legend(['train','test'])"
   ]
  },
  {
   "cell_type": "code",
   "execution_count": 46,
   "id": "9ca720dd",
   "metadata": {},
   "outputs": [],
   "source": [
    "y_pred=classifier.predict(testx)\n",
    "t_pred=(y_pred>= 0.5)"
   ]
  },
  {
   "cell_type": "code",
   "execution_count": 47,
   "id": "00390cd1",
   "metadata": {},
   "outputs": [],
   "source": [
    "from sklearn.metrics import accuracy_score,confusion_matrix,classification_report"
   ]
  },
  {
   "cell_type": "code",
   "execution_count": 48,
   "id": "ca6a4ca7",
   "metadata": {},
   "outputs": [
    {
     "data": {
      "text/plain": [
       "0.8593939393939394"
      ]
     },
     "execution_count": 48,
     "metadata": {},
     "output_type": "execute_result"
    }
   ],
   "source": [
    "accuracy_score(t_pred,testy)"
   ]
  },
  {
   "cell_type": "code",
   "execution_count": 49,
   "id": "265d7e2d",
   "metadata": {},
   "outputs": [
    {
     "data": {
      "text/plain": [
       "array([[2501,  308],\n",
       "       [ 156,  335]], dtype=int64)"
      ]
     },
     "execution_count": 49,
     "metadata": {},
     "output_type": "execute_result"
    }
   ],
   "source": [
    "confusion_matrix(t_pred,testy)"
   ]
  },
  {
   "cell_type": "code",
   "execution_count": 50,
   "id": "40240117",
   "metadata": {},
   "outputs": [
    {
     "name": "stdout",
     "output_type": "stream",
     "text": [
      "              precision    recall  f1-score   support\n",
      "\n",
      "       False       0.94      0.89      0.92      2809\n",
      "        True       0.52      0.68      0.59       491\n",
      "\n",
      "    accuracy                           0.86      3300\n",
      "   macro avg       0.73      0.79      0.75      3300\n",
      "weighted avg       0.88      0.86      0.87      3300\n",
      "\n"
     ]
    }
   ],
   "source": [
    "print(classification_report(t_pred,testy))"
   ]
  },
  {
   "cell_type": "code",
   "execution_count": null,
   "id": "5203ecdc",
   "metadata": {},
   "outputs": [],
   "source": []
  }
 ],
 "metadata": {
  "kernelspec": {
   "display_name": "Python 3",
   "language": "python",
   "name": "python3"
  },
  "language_info": {
   "codemirror_mode": {
    "name": "ipython",
    "version": 3
   },
   "file_extension": ".py",
   "mimetype": "text/x-python",
   "name": "python",
   "nbconvert_exporter": "python",
   "pygments_lexer": "ipython3",
   "version": "3.8.8"
  }
 },
 "nbformat": 4,
 "nbformat_minor": 5
}
